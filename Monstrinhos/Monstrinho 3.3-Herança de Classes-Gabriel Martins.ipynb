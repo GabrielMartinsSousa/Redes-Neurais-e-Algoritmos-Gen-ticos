{
 "cells": [
  {
   "cell_type": "markdown",
   "id": "087d3c1d",
   "metadata": {},
   "source": [
    "# <font color=black><center>Redes Neurais e Algoritmos Genéticos\n",
    "# <font color=black><center>Monstrinho 3.3\n",
    "## <font color=black><center> Classes em Python não pagam imposto sobre herança\n",
    "\n",
    "Gabriel Martins Sousa\n",
    "    \n",
    "## <font color=green><center> == Filhos de partículas ==\n",
    "## Introdução"
   ]
  },
  {
   "cell_type": "markdown",
   "id": "754b8b19",
   "metadata": {},
   "source": [
    "Já ouvimos muito falar que tudo em nossa volta é feito de átomos, partículas minúsculas que constituem a matéria. Por muito tempo se considerou que essas partículas eram fundamentais e indivísiveis, o próprio nome \"*átomo*\" significa \"indivisível\". Porém, através de estudos teóricos e práticos, constatou-se que o átomo possuia estruturas menores. Ao longo do tempo foi descoberto o elétron, o próton e o neutrôn, os constituintes fundamentais dos átomos. Mas, adivinha. Eles não eram tão \"fundamentais\" assim. Pelo menos o próton e o neutrôn também tinham suas unidades formadoras, os **quarks**. Dessa frente de pesquisa, de entender as menores unidades constituintes do universo, que surgiu a **Física de Partículas**, que se dedica a estudar as partículas de menor escala e suas interações. \n",
    "\n",
    "Tudo é feito basicamente das mesmas coisas, segundo o **Modelo Padrão da Física de Partículas**, elas são:\n",
    "\n",
    "![img](Modelo_Padrão_de_Partículas.png)\n",
    "\n",
    "- **Quarks**: Os quarks são os principais constituintes dos hádrons, grupo o qual pertence os núcleons(prótons e neutrôns). Dentro de um hádron como os núcleons, existe um mar de quarks confinados, mas os quarks que definem qual o tipo de hádron são os quarks de valência.\n",
    "\n",
    "- **Léptons**: São outros tipos de partículas que possuem massa consideravelmente menor que seus quarks da mesma geração. Possuem spin não-inteiro.\n",
    "\n",
    "- **Bósons**: As 3 forças fundamentais do universo(fraca, forte e eletromagnética) são mediadas pelos bósons, as partículas elementares mediadoras das interações fundamentais.\n",
    "\n",
    "O principal meio de estudo da Física de Partículas é a **colisão de partículas** em aceleradores de partículas. Através da colisão, é possível fornecer energia suficiente para que os núcleons se desconfinem e liberem seus constituintes fundamentais. Nesse processo, pode ocorrer o que chamamos de **Plasma de Quarks e Glúons**(QGP), um estado da matéria onde os quarks e glúons estão desconfinados dos hádrons. Em pouco tempo esse plasma resfria e ocorre novamente o confinamento dos quarks, porém, não necessariamente como eram antes, eles podem se recombinar e formar outras partículas. Através dessas interações com o QGP, é possível estudar diversos comportamentos e propriedades das partículas elementares.\n",
    "\n",
    "A fim de treinar nossas recém adquiridas habilidades de criar classes, vamos **modelar partículas genéricas** e a partir delas, calcular interações e outras partículas mais complexas como núcleons e o próprio núcleo atômico em si. Além disso, vamos criar métodos que nos ajudem a calcular valores importantes pra nós, assim como, de maneira **extremamente simplificada**, calcular valores de colisões de partículas."
   ]
  },
  {
   "cell_type": "markdown",
   "id": "b3d3fa12",
   "metadata": {},
   "source": [
    "## Desenvolvimento\n",
    "Nossa classe inicial é a classe genérica `Particula`. Ela possui características como massa, carga, e o tipo da partícula. Inicialmente, definimos um método que calcula a interação coulombiana entre duas partículas carregadas. A fórmula que calcula isso é a **Lei de Coulomb** que tem a forma: $$ F = k_e \\frac{|q_1 q_2|}{r^2} $$\n",
    "\n",
    "Força negativa significa atração e forças positivas significa repulsão.\n"
   ]
  },
  {
   "cell_type": "code",
   "execution_count": 13,
   "id": "a7c942d7",
   "metadata": {},
   "outputs": [],
   "source": [
    "class Particula:\n",
    "    def __init__(self, massa, carga, tipo):\n",
    "        self.tipo = tipo\n",
    "        self.carga = carga\n",
    "        self.massa = massa\n",
    "    \n",
    "    def __repr__(self):\n",
    "        return f\"A partícula {self.tipo} tem {self.massa} Kg e carga de {self.carga} C\"\n",
    "    \n",
    "    def forc_cou(self, particula, distancia):\n",
    "        if self.carga and particula.carga != 0:\n",
    "            ke = 9 * 10**9\n",
    "            r = distancia\n",
    "        \n",
    "            F = ke * abs(self.carga * particula.carga) / r**2\n",
    "            if F < 0:\n",
    "                print(f\"A força eletrostática entre {self.tipo} e {particula.nome} é atrativa e equivale, aproximadamente, a {F} N\" )\n",
    "            else:\n",
    "                print(f\"A força eletrostática entre {self.tipo} e {particula.nome} é repulsiva e equivale, aproximadamente, a {F} N\" )\n",
    "        \n",
    "        return F"
   ]
  },
  {
   "cell_type": "markdown",
   "id": "5f90f7c3",
   "metadata": {},
   "source": [
    "Feita a classe `Particula`, vamos agora criar a classe `Nucleo`, que, para alguns fenômenos e cálculos pode ser considerada uma partícula. O que queremos no final das contas é simular, de maneira simplificada, uma colisão entre duas partículas em velocidades relativísticas e verificar se há a formação do QGP. Para isso, precisamos de informações como velocidade e massa. Com esses dados, o método `k_relat` calcula a energia e o método `colisao` soma as energias e verifica se a energia resultante é suficiente para formação do QGP."
   ]
  },
  {
   "cell_type": "code",
   "execution_count": 14,
   "id": "2f322087",
   "metadata": {},
   "outputs": [],
   "source": [
    "from math import sqrt\n",
    "class Nucleo(Particula):        \n",
    "    def __init__(self, elemento, massa, n_atomico, carga):\n",
    "        super().__init__(massa, carga, tipo=\"nucleo\")\n",
    "        self.elem = elemento\n",
    "        self.massa = massa * 1.6 * 10**(-27)\n",
    "        self.n_atom = n_atomico\n",
    "        self.carga = n_atomico * 1.6 * 10**(-19)\n",
    "        \n",
    "    def __repr__(self):\n",
    "        return f\" O núcleo de {self.elem} tem massa de {self.massa} Kg, o n° atômico {self.n_atom} e a carga equivalente a {self.carga}\"\n",
    "        \n",
    "    c = 3 * 10\n",
    "    def k_relat(self, velocidade):\n",
    "        self.gama = 1 / (sqrt(1-(velocidade**2 / c**2)))\n",
    "        self.k = gama * self.massa * c**2\n",
    "        \n",
    "    def colisao(self, velocidade, nucleo, velocidade_n):\n",
    "        c = 3 * 10**8\n",
    "        self.velo = velocidade\n",
    "        \n",
    "        # Cálculo do gama das partículas\n",
    "        nucleo.velo = velocidade_n\n",
    "        self.gama = 1 / (sqrt(1-(velocidade**2 / c**2)))\n",
    "        nucleo.gama = 1 / (sqrt(1-(velocidade_n**2 / c**2)))\n",
    "        \n",
    "        # Cálculo da energia e momento das partículas\n",
    "        self.ener = (self.gama - 1) * self.massa * c**2\n",
    "        nucleo.ener = (nucleo.gama - 1) * nucleo.massa * c**2\n",
    "        self.mom = self.gama * self.massa * self.velo\n",
    "        nucleo.mom = nucleo.gama * nucleo.massa * nucleo.velo\n",
    "        \n",
    "        # Cálculo da energia gerada \n",
    "        j = 6.24 * 10**18\n",
    "        e_t = nucleo.ener + self.ener\n",
    "        e_eV = e_t * j\n",
    "        \n",
    "        # Limiar total do núcleo\n",
    "        e_l = 3.5 * 10**9 * self.n_atom * 2.5\n",
    "        if e_eV > e_l:\n",
    "            return f\"A energia total da colisão foi de {e_eV} eV e houve formação de QGP\"\n",
    "        else:\n",
    "            return f\"A energia total da colisão foi de {e_eV} eV, porém, não houve formação de QGP\""
   ]
  },
  {
   "cell_type": "markdown",
   "id": "1a4c2bc1",
   "metadata": {},
   "source": [
    "Criada a classe, vamos instanciar um núcleo de chumbo(**Pb**) comum."
   ]
  },
  {
   "cell_type": "code",
   "execution_count": 17,
   "id": "1320d1c7",
   "metadata": {},
   "outputs": [
    {
     "name": "stdout",
     "output_type": "stream",
     "text": [
      " O núcleo de chumbo tem massa de 3.328e-25 Kg, o n° atômico 82 e a carga equivalente a 1.3120000000000001e-17\n"
     ]
    }
   ],
   "source": [
    "CHUMBO = Nucleo(\"chumbo\", 208, 82, 82 * 1.6 * 10**(-19))\n",
    "print(CHUMBO)\n",
    "CHUMBO2 = Nucleo(\"chumbo\", 208, 82, 82 * 1.6 * 10**(-19))"
   ]
  },
  {
   "cell_type": "markdown",
   "id": "7a02d565",
   "metadata": {},
   "source": [
    "Para uma colisão de partículas, é recomendado que as partículas sejam o mais semelhantes possíveis. Por isso, vamos chocar o núcleo de chumbo com outro núcleo mas que tem as mesmas informações."
   ]
  },
  {
   "cell_type": "code",
   "execution_count": 18,
   "id": "6db76329",
   "metadata": {},
   "outputs": [
    {
     "data": {
      "text/plain": [
       "'A energia total da colisão foi de 1086141237179.5946 eV e houve formação de QGP'"
      ]
     },
     "execution_count": 18,
     "metadata": {},
     "output_type": "execute_result"
    }
   ],
   "source": [
    "CHUMBO.colisao(290000000, CHUMBO2, 290000000)"
   ]
  },
  {
   "cell_type": "markdown",
   "id": "66b5caef",
   "metadata": {},
   "source": [
    "Simulamos a colisão e ela resultou em um QGP. Porém, e se diminuirmos a velocidade das partículas na colisão."
   ]
  },
  {
   "cell_type": "code",
   "execution_count": 20,
   "id": "d3a78db7",
   "metadata": {},
   "outputs": [
    {
     "data": {
      "text/plain": [
       "'A energia total da colisão foi de 667395475171.5994 eV, porém, não houve formação de QGP'"
      ]
     },
     "execution_count": 20,
     "metadata": {},
     "output_type": "execute_result"
    }
   ],
   "source": [
    "CHUMBO.colisao(280000000, CHUMBO2, 280000000)"
   ]
  },
  {
   "cell_type": "markdown",
   "id": "2a7b15d4",
   "metadata": {},
   "source": [
    "Com esse resultado, podemos ver que só ocorre a formação do QGP em velocidades muito altas, próximas a velocidade da luz."
   ]
  },
  {
   "cell_type": "markdown",
   "id": "6ed8ef47",
   "metadata": {},
   "source": [
    "## Conclusão\n",
    "Ao final do trabalho, conseguimos modelar, de maneira bem simplificada, partículas, núcleos atômicos e algumas de suas interações. Tudo isso para fixarmos e treinarmos os conceitos de classe e herança de classes para aplicarmos futuramente em Redes Neurais. \n",
    "\n",
    "## Referências\n",
    "- WIKIPEDIA CONTRIBUTORS. Coulomb’s law. Disponível em: <https://en.wikipedia.org/wiki/Coulomb%27s_law>.\n",
    "- MOREIRA, M. A. O Modelo Padrão da Física de Partículas. Revista Brasileira de Ensino de Física, v. 31, n. 1, p. 1306.1–1306.11, abr. 2009.\n",
    "- TAKAHASHI, J. UNIVERSIDADE ESTADUAL DE CAMPINAS Produção Térmica de Partículas em Colisões Nucleares Relativísticas Rafael Derradi de Souza. [s.l: s.n.]. Disponível em: <https://drupal.star.bnl.gov/STAR/files/RafaelMasterThesis.pdf>. Acesso em: 30 mar. 2025."
   ]
  },
  {
   "cell_type": "code",
   "execution_count": null,
   "id": "8c0983c7",
   "metadata": {},
   "outputs": [],
   "source": []
  }
 ],
 "metadata": {
  "kernelspec": {
   "display_name": "ilumpy",
   "language": "python",
   "name": "ilumpy"
  },
  "language_info": {
   "codemirror_mode": {
    "name": "ipython",
    "version": 3
   },
   "file_extension": ".py",
   "mimetype": "text/x-python",
   "name": "python",
   "nbconvert_exporter": "python",
   "pygments_lexer": "ipython3",
   "version": "3.11.6"
  }
 },
 "nbformat": 4,
 "nbformat_minor": 5
}
