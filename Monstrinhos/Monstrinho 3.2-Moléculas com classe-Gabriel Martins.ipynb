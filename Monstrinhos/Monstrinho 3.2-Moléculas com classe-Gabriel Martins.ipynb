{
 "cells": [
  {
   "cell_type": "markdown",
   "id": "4feca51f",
   "metadata": {},
   "source": [
    "# <font color=black><center>Redes Neurais e Algoritmos Genéticos\n",
    "# <font color=black><center>Monstrinho 3.2\n",
    "## <font color=black><center>“Átomos não são bolinhas e ligações químicas não são pauzinhos” — Prof. Julio\n",
    "Gabriel Martins Sousa"
   ]
  },
  {
   "cell_type": "markdown",
   "id": "72402e80",
   "metadata": {},
   "source": [
    "## Introdução\n",
    "Na química, tudo se baseia nas interações entre átomos e moléculas. Esses elementos possuem várias características que influenciam nessas interações, dentre eles o número atômico, o peso, a distribuição de carga, entre outros. Afim de registrar computacionalmente as informações dos elementos e das moléculas, e além disso, praticar nosso conhecimento sobre criação e uso de classes, vamos utilizar as **classes** de Python para modelar elementos químicos e moléculas e automatizar a apresentação de informações sobre esses objetos.\n",
    "\n",
    "## Desenvolvimento\n",
    "Inicialmente, vamos **criar a classe** de elementos responsável por produzir um objeto que armazenará as informações sobre o elemento, como o símbolo, o número atômico e o peso atômico. Na execução de uma instância dessa classe, vamos exibir seu símbolo, seu n° atômico e seu peso."
   ]
  },
  {
   "cell_type": "code",
   "execution_count": 1,
   "id": "dc1ddcdc",
   "metadata": {},
   "outputs": [],
   "source": [
    "class Elemento:\n",
    "    '''Classe para armazenar informações sobre elementos químicos'''\n",
    "    def __init__(self, nome, simbolo, n_atom, peso_atom):\n",
    "        self.nome = nome\n",
    "        self.simb = simbolo\n",
    "        self.n_atom = n_atom\n",
    "        self.p_atom = peso_atom\n",
    "        \n",
    "    def __repr__(self):\n",
    "        return f\"O elemento químico {self.nome} tem o símbolo {self.simb}, o número atômico {self.n_atom}, e o peso molecular é de {self.p_atom} massas atômicas\""
   ]
  },
  {
   "cell_type": "markdown",
   "id": "6e2bb4d4",
   "metadata": {},
   "source": [
    "Com a classe criada, vamos **criar instâncias** dessa classe que represente alguns elementos. Ao final, vamos tentar criar a molécula de glicose, então vamos criar os elementos Carbono, Hidrogênio e Oxigênio:"
   ]
  },
  {
   "cell_type": "code",
   "execution_count": 2,
   "id": "47c9e8c6",
   "metadata": {},
   "outputs": [
    {
     "name": "stdout",
     "output_type": "stream",
     "text": [
      "O elemento químico Carbono tem o símbolo C, o número atômico 6, e o peso molecular é de 12 massas atômicas\n",
      "O elemento químico Oxigênio tem o símbolo O, o número atômico 8, e o peso molecular é de 16 massas atômicas\n",
      "O elemento químico Hidrogênio tem o símbolo H, o número atômico 1, e o peso molecular é de 1 massas atômicas\n"
     ]
    }
   ],
   "source": [
    "Carbono = Elemento(\"Carbono\", \"C\", 6, 12)\n",
    "Oxigenio = Elemento(\"Oxigênio\", \"O\", 8, 16)\n",
    "Hidrogenio = Elemento(\"Hidrogênio\", \"H\", 1, 1)\n",
    "\n",
    "print(Carbono)\n",
    "print(Oxigenio)\n",
    "print(Hidrogenio)"
   ]
  },
  {
   "cell_type": "markdown",
   "id": "396885e0",
   "metadata": {},
   "source": [
    "Definidos os elementos, vamos **criar a** classe que utilizará as informações dos átomos para modelar uma **molécula**. Essa classe necessita de um dicionário com a instância dos elementos e as suas quantidades na molécula. Com isso, a instância armazenará a fórmula química e o peso molecular dessa molécula."
   ]
  },
  {
   "cell_type": "code",
   "execution_count": 3,
   "id": "a699e267",
   "metadata": {},
   "outputs": [],
   "source": [
    "class Molecula:\n",
    "    '''Classe para gerar a fórmula química da molecula e seu peso molecular'''\n",
    "    def __init__(self,dicionario):\n",
    "        self.lista = []\n",
    "        self.dic_mol = dicionario\n",
    "        for i in dicionario.keys():\n",
    "            elem = i.simb\n",
    "            quant = dicionario[i]\n",
    "            form = elem + quant \n",
    "            self.lista.append(form)\n",
    "                   \n",
    "    def __repr__(self):\n",
    "        '''Fórmula Química'''\n",
    "        form_tot = \"\"\n",
    "        for i in self.lista:\n",
    "            form_tot += i\n",
    "            \n",
    "        '''Peso molecular'''\n",
    "        peso_mol = 0\n",
    "        for i in self.dic_mol.keys():\n",
    "            p_atom = int(i.p_atom)\n",
    "            quanti = int(self.dic_mol[i])\n",
    "            pes_elem = p_atom * quanti\n",
    "            peso_mol += pes_elem\n",
    "        \n",
    "        return f\" A fórmula química é {form_tot} e o peso molecular é {peso_mol}\""
   ]
  },
  {
   "cell_type": "markdown",
   "id": "93a184cb",
   "metadata": {},
   "source": [
    "A classe precisa do **dicionário** com as informações sobre a molécula, então, vamos criá-la abaixo:"
   ]
  },
  {
   "cell_type": "code",
   "execution_count": 6,
   "id": "bf4261f5",
   "metadata": {},
   "outputs": [],
   "source": [
    "Glicose = {\n",
    "    Carbono:\"6\",\n",
    "    Hidrogenio:\"12\",\n",
    "    Oxigenio:\"6\",\n",
    "}"
   ]
  },
  {
   "cell_type": "markdown",
   "id": "8e2c97c4",
   "metadata": {},
   "source": [
    "Feito tudo isso, podemos **instanciar a molécula** de glicose e **printar as informações** dela."
   ]
  },
  {
   "cell_type": "code",
   "execution_count": 7,
   "id": "d1b92c40",
   "metadata": {},
   "outputs": [
    {
     "data": {
      "text/plain": [
       " A fórmula química é C6H12O6 e o peso molecular é 180"
      ]
     },
     "execution_count": 7,
     "metadata": {},
     "output_type": "execute_result"
    }
   ],
   "source": [
    "ACUCAR = Molecula(Glicose)\n",
    "ACUCAR"
   ]
  },
  {
   "cell_type": "markdown",
   "id": "12de300a",
   "metadata": {},
   "source": [
    "Lindo! A fórmula está correta e o peso molecular também."
   ]
  },
  {
   "cell_type": "markdown",
   "id": "8687c643",
   "metadata": {},
   "source": [
    "## Conclusão"
   ]
  },
  {
   "cell_type": "markdown",
   "id": "54e9ea8e",
   "metadata": {},
   "source": [
    "Ao final da atividade, foi possível criar com sucesso as classes e os objetos que foram propostos pela atividade. Exploramos os recursos de classes e relembramos os dicionários, além dos conceitos de química."
   ]
  }
 ],
 "metadata": {
  "kernelspec": {
   "display_name": "ilumpy",
   "language": "python",
   "name": "ilumpy"
  },
  "language_info": {
   "codemirror_mode": {
    "name": "ipython",
    "version": 3
   },
   "file_extension": ".py",
   "mimetype": "text/x-python",
   "name": "python",
   "nbconvert_exporter": "python",
   "pygments_lexer": "ipython3",
   "version": "3.11.6"
  }
 },
 "nbformat": 4,
 "nbformat_minor": 5
}
